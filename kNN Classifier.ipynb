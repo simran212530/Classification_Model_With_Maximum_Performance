{
 "cells": [
  {
   "cell_type": "code",
   "execution_count": 4,
   "metadata": {
    "scrolled": true
   },
   "outputs": [],
   "source": [
    "import pandas as pd\n",
    "import numpy as np\n",
    "from sklearn.metrics import roc_auc_score\n",
    "from sklearn.neighbors import KNeighborsClassifier\n",
    "from sklearn.ensemble import RandomForestClassifier\n",
    "from sklearn.tree import DecisionTreeClassifier\n",
    "from sklearn.ensemble import AdaBoostClassifier\n",
    "from sklearn.model_selection import train_test_split\n",
    "from sklearn.model_selection import RepeatedStratifiedKFold, GridSearchCV\n",
    "from sklearn.preprocessing import StandardScaler\n",
    "from sklearn.metrics import (roc_curve, auc, roc_auc_score,\n",
    "                             confusion_matrix)\n",
    "import matplotlib.pyplot as plt\n",
    "from sklearn import preprocessing\n",
    "import itertools\n",
    "import pickle\n",
    "from sklearn.utils import resample\n",
    "from imblearn.under_sampling import TomekLinks, EditedNearestNeighbours\n",
    "from imblearn.over_sampling import SMOTE, RandomOverSampler"
   ]
  },
  {
   "cell_type": "code",
   "execution_count": 2,
   "metadata": {},
   "outputs": [
    {
     "data": {
      "text/html": [
       "<div>\n",
       "<style scoped>\n",
       "    .dataframe tbody tr th:only-of-type {\n",
       "        vertical-align: middle;\n",
       "    }\n",
       "\n",
       "    .dataframe tbody tr th {\n",
       "        vertical-align: top;\n",
       "    }\n",
       "\n",
       "    .dataframe thead th {\n",
       "        text-align: right;\n",
       "    }\n",
       "</style>\n",
       "<table border=\"1\" class=\"dataframe\">\n",
       "  <thead>\n",
       "    <tr style=\"text-align: right;\">\n",
       "      <th></th>\n",
       "      <th>A</th>\n",
       "      <th>B</th>\n",
       "      <th>C</th>\n",
       "      <th>D</th>\n",
       "      <th>E</th>\n",
       "      <th>F</th>\n",
       "      <th>G</th>\n",
       "      <th>T</th>\n",
       "    </tr>\n",
       "  </thead>\n",
       "  <tbody>\n",
       "    <tr>\n",
       "      <th>0</th>\n",
       "      <td>8.341749e+07</td>\n",
       "      <td>2</td>\n",
       "      <td>124</td>\n",
       "      <td>4</td>\n",
       "      <td>0.144868</td>\n",
       "      <td>3.091977e-01</td>\n",
       "      <td>22</td>\n",
       "      <td>1</td>\n",
       "    </tr>\n",
       "    <tr>\n",
       "      <th>1</th>\n",
       "      <td>1.379494e+08</td>\n",
       "      <td>2</td>\n",
       "      <td>5</td>\n",
       "      <td>34</td>\n",
       "      <td>0.117274</td>\n",
       "      <td>9.492332e-03</td>\n",
       "      <td>0</td>\n",
       "      <td>1</td>\n",
       "    </tr>\n",
       "    <tr>\n",
       "      <th>2</th>\n",
       "      <td>1.293132e+08</td>\n",
       "      <td>2</td>\n",
       "      <td>324</td>\n",
       "      <td>18</td>\n",
       "      <td>0.006898</td>\n",
       "      <td>6.352157e-07</td>\n",
       "      <td>2</td>\n",
       "      <td>1</td>\n",
       "    </tr>\n",
       "    <tr>\n",
       "      <th>3</th>\n",
       "      <td>1.028544e+08</td>\n",
       "      <td>2</td>\n",
       "      <td>202</td>\n",
       "      <td>4</td>\n",
       "      <td>0.000000</td>\n",
       "      <td>8.980000e-02</td>\n",
       "      <td>0</td>\n",
       "      <td>1</td>\n",
       "    </tr>\n",
       "    <tr>\n",
       "      <th>4</th>\n",
       "      <td>2.784674e+09</td>\n",
       "      <td>2</td>\n",
       "      <td>281</td>\n",
       "      <td>56</td>\n",
       "      <td>0.000000</td>\n",
       "      <td>3.288574e-04</td>\n",
       "      <td>0</td>\n",
       "      <td>1</td>\n",
       "    </tr>\n",
       "  </tbody>\n",
       "</table>\n",
       "</div>"
      ],
      "text/plain": [
       "              A  B    C   D         E             F   G  T\n",
       "0  8.341749e+07  2  124   4  0.144868  3.091977e-01  22  1\n",
       "1  1.379494e+08  2    5  34  0.117274  9.492332e-03   0  1\n",
       "2  1.293132e+08  2  324  18  0.006898  6.352157e-07   2  1\n",
       "3  1.028544e+08  2  202   4  0.000000  8.980000e-02   0  1\n",
       "4  2.784674e+09  2  281  56  0.000000  3.288574e-04   0  1"
      ]
     },
     "execution_count": 2,
     "metadata": {},
     "output_type": "execute_result"
    }
   ],
   "source": [
    "df = pd.read_csv('given_dataset.csv')\n",
    "df.drop('id', axis = 1, inplace = True)\n",
    "df.dropna()\n",
    "df.drop_duplicates()\n",
    "df.head()"
   ]
  },
  {
   "cell_type": "code",
   "execution_count": null,
   "metadata": {},
   "outputs": [],
   "source": [
    "df.shape"
   ]
  },
  {
   "cell_type": "code",
   "execution_count": null,
   "metadata": {},
   "outputs": [],
   "source": [
    "df.isnull().sum()"
   ]
  },
  {
   "cell_type": "code",
   "execution_count": null,
   "metadata": {},
   "outputs": [],
   "source": [
    "df['T'].value_counts()\n",
    "# Cases of 0 is just a measly 1.44% "
   ]
  },
  {
   "cell_type": "code",
   "execution_count": null,
   "metadata": {},
   "outputs": [],
   "source": [
    "# df['B'].value_counts()"
   ]
  },
  {
   "cell_type": "code",
   "execution_count": null,
   "metadata": {},
   "outputs": [],
   "source": [
    "# main = df.index\n",
    "# ones_B_2 = df[(df['B'] == 2) & (df['T'] == 1)].sample(n = 30000).index\n",
    "# df_1 = df.loc[ones_B_2]\n",
    "# ones_B_1 = df[(df['B'] == 1) & (df['T'] == 1)].sample(n = 10000).index\n",
    "# df_2 = df.loc[ones_B_1]\n",
    "# ones = df.loc[ones_B_2.union(ones_B_1)]\n",
    "# general = df[df['T'] == 1].index\n",
    "# first = general[~general.index.isin(df_1.index+df_2.index)]\n",
    "# zeros = df[df['T'] == 0].index\n",
    "# second = df.loc[zeros]\n",
    "\n",
    "# df_ = first.join(second)\n",
    "# temp = ones_B_2.union(ones_B_1)\n",
    "# temp_2 = zeros.union(ones)\n",
    "# first = df.loc[temp]\n",
    "# second = df.loc[temp_2]\n",
    "\n",
    "# df_.head()\n",
    "# inter = pd.merge(union, second, how = 'inner')\n",
    "# ans = pd.merge(union, second, how = 'outer')\n",
    "# df_final = ans[ans.isnull().any(axis = 1)]\n",
    "# df_final.head()\n",
    "ones = df[df['T'] == 1].sample(n = 750000).index\n",
    "zeros = df[df['T'] == 0].index\n",
    "\n",
    "df = df.loc[ones.union(zeros)]"
   ]
  },
  {
   "cell_type": "code",
   "execution_count": 5,
   "metadata": {},
   "outputs": [],
   "source": [
    "# X = df[['A', 'B', 'C', 'D', 'E', 'F', 'G']]\n",
    "# y = df['T']\n",
    "# X_train, X_test, y_train, y_test = train_test_split(X, y, test_size=0.30, stratify=y, random_state=42)\n",
    "\n",
    "# RUS\n",
    "X_maj = df[df['T'] == 1]\n",
    "X_min = df[df['T'] == 0]\n",
    "X_maj_rus = resample(X_maj, replace = False, n_samples = 2*len(X_min), random_state = 42)\n",
    "X_rus = pd.concat([X_maj_rus, X_min])\n",
    "X_train = X_rus.drop(['T'], axis = 1)\n",
    "y_train = X_rus['T']\n",
    "# sm = SMOTE(sampling_strategy='auto', k_neighbors=5, random_state=42)\n",
    "# ROS\n",
    "# ros = RandomOverSampler(sampling_strategy=1.0)\n",
    "# X_ros, y_ros = ros.fit_resample(X_train, y_train)\n",
    "\n",
    "# SMOTE\n",
    "# smote = SMOTE(sampling_strategy=1.0, k_neighbors=2)\n",
    "# X_train, y_train = smote.fit_resample(X_train, y_train)\n",
    "\n",
    "# Wilson's ENN\n",
    "# enn = EditedNearestNeighbours()\n",
    "# X_enn, y_enn = enn.fit_resample(X_train, y_train)\n",
    "\n",
    "# Tomek Links\n",
    "# tomek = TomekLinks()\n",
    "# X_tomek, y_tomek = tomek.fit_resample(X_train, y_train)"
   ]
  },
  {
   "cell_type": "code",
   "execution_count": 6,
   "metadata": {},
   "outputs": [],
   "source": [
    "cv_method = RepeatedStratifiedKFold(n_splits=10,n_repeats=3,random_state=42)\n",
    "model_KNN = KNeighborsClassifier()\n",
    "params_KNN = {'n_neighbors': [5, 7, 9], \n",
    "              'p': [1, 2, 3]}\n",
    "gs_KNN = GridSearchCV(estimator=model_KNN, \n",
    "                      param_grid=params_KNN, \n",
    "                      cv=cv_method,\n",
    "                      verbose=1, \n",
    "                      scoring='roc_auc')"
   ]
  },
  {
   "cell_type": "code",
   "execution_count": 7,
   "metadata": {
    "scrolled": true
   },
   "outputs": [
    {
     "name": "stdout",
     "output_type": "stream",
     "text": [
      "Fitting 30 folds for each of 9 candidates, totalling 270 fits\n"
     ]
    },
    {
     "name": "stderr",
     "output_type": "stream",
     "text": [
      "[Parallel(n_jobs=1)]: Using backend SequentialBackend with 1 concurrent workers.\n",
      "[Parallel(n_jobs=1)]: Done 270 out of 270 | elapsed:  1.7min finished\n"
     ]
    },
    {
     "data": {
      "text/plain": [
       "GridSearchCV(cv=RepeatedStratifiedKFold(n_repeats=3, n_splits=10, random_state=42),\n",
       "             estimator=KNeighborsClassifier(),\n",
       "             param_grid={'n_neighbors': [5, 7, 9], 'p': [1, 2, 3]},\n",
       "             scoring='roc_auc', verbose=1)"
      ]
     },
     "execution_count": 7,
     "metadata": {},
     "output_type": "execute_result"
    }
   ],
   "source": [
    "gs_KNN.fit(X_train, y_train)"
   ]
  },
  {
   "cell_type": "code",
   "execution_count": 8,
   "metadata": {},
   "outputs": [
    {
     "data": {
      "text/plain": [
       "{'n_neighbors': 9, 'p': 1}"
      ]
     },
     "execution_count": 8,
     "metadata": {},
     "output_type": "execute_result"
    }
   ],
   "source": [
    "gs_KNN.best_params_"
   ]
  },
  {
   "cell_type": "code",
   "execution_count": null,
   "metadata": {},
   "outputs": [],
   "source": [
    "knn = KNeighborsClassifier(n_neighbors = 9, p = 1)"
   ]
  },
  {
   "cell_type": "code",
   "execution_count": null,
   "metadata": {},
   "outputs": [],
   "source": [
    "knn.fit(X_tomek, y_tomek)"
   ]
  },
  {
   "cell_type": "code",
   "execution_count": null,
   "metadata": {},
   "outputs": [],
   "source": [
    "# X_train, X_test, y_train, y_test = train_test_split(X, y, test_size=0.30, random_state=1111)"
   ]
  },
  {
   "cell_type": "code",
   "execution_count": null,
   "metadata": {},
   "outputs": [],
   "source": [
    "def show_cm(y_true, y_pred, class_names=None, model_name=None):\n",
    "#     Show confusion matrix\n",
    " \n",
    " cf = confusion_matrix(y_true, y_pred)\n",
    " plt.imshow(cf, cmap=plt.cm.Blues)\n",
    " if model_name:\n",
    "   plt.title('Confusion Matrix: {}'.format(model_name))\n",
    " else:\n",
    "   plt.title('Confusion Matrix')\n",
    "   plt.ylabel('True Label')\n",
    "   plt.xlabel('Predicted Label')\n",
    " if class_names:\n",
    "   tick_marks = np.arange(len(class_names))\n",
    "   plt.xticks(tick_marks, class_names)\n",
    "   plt.yticks(tick_marks, class_names)\n",
    " else:\n",
    "   class_names = set(y_true)\n",
    "   tick_marks = np.arange(len(class_names))\n",
    "   plt.xticks(tick_marks, class_names)\n",
    "   plt.yticks(tick_marks, class_names)\n",
    " thresh = cf.max() / 2.0\n",
    " for i, j in itertools.product(range(cf.shape[0]),\n",
    "                               range(cf.shape[1])):\n",
    "   plt.text(j, i, cf[i, j],\n",
    "            horizontalalignment='center',\n",
    "            color='white' if cf[i, j] > thresh else 'black',\n",
    "            )\n",
    " plt.colorbar()"
   ]
  },
  {
   "cell_type": "code",
   "execution_count": 9,
   "metadata": {},
   "outputs": [
    {
     "data": {
      "text/html": [
       "<div>\n",
       "<style scoped>\n",
       "    .dataframe tbody tr th:only-of-type {\n",
       "        vertical-align: middle;\n",
       "    }\n",
       "\n",
       "    .dataframe tbody tr th {\n",
       "        vertical-align: top;\n",
       "    }\n",
       "\n",
       "    .dataframe thead th {\n",
       "        text-align: right;\n",
       "    }\n",
       "</style>\n",
       "<table border=\"1\" class=\"dataframe\">\n",
       "  <thead>\n",
       "    <tr style=\"text-align: right;\">\n",
       "      <th></th>\n",
       "      <th>A</th>\n",
       "      <th>B</th>\n",
       "      <th>C</th>\n",
       "      <th>D</th>\n",
       "      <th>E</th>\n",
       "      <th>F</th>\n",
       "      <th>G</th>\n",
       "    </tr>\n",
       "  </thead>\n",
       "  <tbody>\n",
       "    <tr>\n",
       "      <th>0</th>\n",
       "      <td>3.048551e+08</td>\n",
       "      <td>2</td>\n",
       "      <td>126</td>\n",
       "      <td>40</td>\n",
       "      <td>0.000000</td>\n",
       "      <td>0.673500</td>\n",
       "      <td>0</td>\n",
       "    </tr>\n",
       "    <tr>\n",
       "      <th>1</th>\n",
       "      <td>8.306319e+07</td>\n",
       "      <td>2</td>\n",
       "      <td>272</td>\n",
       "      <td>18</td>\n",
       "      <td>0.006898</td>\n",
       "      <td>0.342363</td>\n",
       "      <td>0</td>\n",
       "    </tr>\n",
       "    <tr>\n",
       "      <th>2</th>\n",
       "      <td>1.773707e+09</td>\n",
       "      <td>2</td>\n",
       "      <td>121</td>\n",
       "      <td>2</td>\n",
       "      <td>0.000000</td>\n",
       "      <td>0.673500</td>\n",
       "      <td>0</td>\n",
       "    </tr>\n",
       "    <tr>\n",
       "      <th>3</th>\n",
       "      <td>1.000000e+08</td>\n",
       "      <td>1</td>\n",
       "      <td>121</td>\n",
       "      <td>0</td>\n",
       "      <td>0.000000</td>\n",
       "      <td>0.673500</td>\n",
       "      <td>0</td>\n",
       "    </tr>\n",
       "    <tr>\n",
       "      <th>4</th>\n",
       "      <td>3.300000e+07</td>\n",
       "      <td>1</td>\n",
       "      <td>71</td>\n",
       "      <td>4</td>\n",
       "      <td>0.000000</td>\n",
       "      <td>0.168375</td>\n",
       "      <td>0</td>\n",
       "    </tr>\n",
       "  </tbody>\n",
       "</table>\n",
       "</div>"
      ],
      "text/plain": [
       "              A  B    C   D         E         F  G\n",
       "0  3.048551e+08  2  126  40  0.000000  0.673500  0\n",
       "1  8.306319e+07  2  272  18  0.006898  0.342363  0\n",
       "2  1.773707e+09  2  121   2  0.000000  0.673500  0\n",
       "3  1.000000e+08  1  121   0  0.000000  0.673500  0\n",
       "4  3.300000e+07  1   71   4  0.000000  0.168375  0"
      ]
     },
     "execution_count": 9,
     "metadata": {},
     "output_type": "execute_result"
    }
   ],
   "source": [
    "df_test = pd.read_csv('to_predict.csv')\n",
    "df_test.drop_duplicates()\n",
    "df_test.dropna()\n",
    "op = df_test[['id']]\n",
    "df_test.drop('id', axis = 1, inplace = True)\n",
    "df_test.head()"
   ]
  },
  {
   "cell_type": "code",
   "execution_count": 10,
   "metadata": {},
   "outputs": [],
   "source": [
    "X = df_test[['A', 'B', 'C', 'D', 'E', 'F', 'G']]\n",
    "ans = gs_KNN.predict(X)"
   ]
  },
  {
   "cell_type": "code",
   "execution_count": 11,
   "metadata": {},
   "outputs": [
    {
     "data": {
      "text/html": [
       "<div>\n",
       "<style scoped>\n",
       "    .dataframe tbody tr th:only-of-type {\n",
       "        vertical-align: middle;\n",
       "    }\n",
       "\n",
       "    .dataframe tbody tr th {\n",
       "        vertical-align: top;\n",
       "    }\n",
       "\n",
       "    .dataframe thead th {\n",
       "        text-align: right;\n",
       "    }\n",
       "</style>\n",
       "<table border=\"1\" class=\"dataframe\">\n",
       "  <thead>\n",
       "    <tr style=\"text-align: right;\">\n",
       "      <th></th>\n",
       "      <th>id</th>\n",
       "      <th>T</th>\n",
       "    </tr>\n",
       "  </thead>\n",
       "  <tbody>\n",
       "    <tr>\n",
       "      <th>0</th>\n",
       "      <td>2041687</td>\n",
       "      <td>1</td>\n",
       "    </tr>\n",
       "    <tr>\n",
       "      <th>1</th>\n",
       "      <td>2041688</td>\n",
       "      <td>1</td>\n",
       "    </tr>\n",
       "    <tr>\n",
       "      <th>2</th>\n",
       "      <td>2041689</td>\n",
       "      <td>1</td>\n",
       "    </tr>\n",
       "    <tr>\n",
       "      <th>3</th>\n",
       "      <td>2041690</td>\n",
       "      <td>1</td>\n",
       "    </tr>\n",
       "    <tr>\n",
       "      <th>4</th>\n",
       "      <td>2041691</td>\n",
       "      <td>1</td>\n",
       "    </tr>\n",
       "  </tbody>\n",
       "</table>\n",
       "</div>"
      ],
      "text/plain": [
       "        id  T\n",
       "0  2041687  1\n",
       "1  2041688  1\n",
       "2  2041689  1\n",
       "3  2041690  1\n",
       "4  2041691  1"
      ]
     },
     "execution_count": 11,
     "metadata": {},
     "output_type": "execute_result"
    }
   ],
   "source": [
    "op.insert(1, 'T', ans, True)\n",
    "op.head()"
   ]
  },
  {
   "cell_type": "code",
   "execution_count": 12,
   "metadata": {},
   "outputs": [],
   "source": [
    "op.to_csv('submission_kNN_RUS.csv', index = False)"
   ]
  },
  {
   "cell_type": "code",
   "execution_count": null,
   "metadata": {},
   "outputs": [],
   "source": []
  },
  {
   "cell_type": "code",
   "execution_count": null,
   "metadata": {},
   "outputs": [],
   "source": []
  }
 ],
 "metadata": {
  "kernelspec": {
   "display_name": "Python 3",
   "language": "python",
   "name": "python3"
  },
  "language_info": {
   "codemirror_mode": {
    "name": "ipython",
    "version": 3
   },
   "file_extension": ".py",
   "mimetype": "text/x-python",
   "name": "python",
   "nbconvert_exporter": "python",
   "pygments_lexer": "ipython3",
   "version": "3.7.9"
  }
 },
 "nbformat": 4,
 "nbformat_minor": 4
}
