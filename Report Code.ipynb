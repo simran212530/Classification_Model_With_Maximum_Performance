{
 "cells": [
  {
   "cell_type": "code",
   "execution_count": 8,
   "metadata": {},
   "outputs": [],
   "source": [
    "import pandas as pd\n",
    "import numpy as np\n",
    "from sklearn.metrics import roc_auc_score\n",
    "from sklearn.neighbors import KNeighborsClassifier\n",
    "from sklearn.ensemble import RandomForestClassifier\n",
    "from sklearn.tree import DecisionTreeClassifier\n",
    "from sklearn.ensemble import AdaBoostClassifier, GradientBoostingClassifier\n",
    "from sklearn.model_selection import train_test_split\n",
    "from imblearn.pipeline import Pipeline\n",
    "from sklearn.model_selection import RepeatedStratifiedKFold, GridSearchCV\n",
    "from sklearn.preprocessing import StandardScaler\n",
    "from sklearn.calibration import CalibratedClassifierCV\n",
    "from sklearn.metrics import (roc_curve, auc, roc_auc_score,\n",
    "                             confusion_matrix)\n",
    "import matplotlib.pyplot as plt\n",
    "from numpy import where\n",
    "from sklearn import preprocessing\n",
    "from collections import Counter\n",
    "import itertools\n",
    "import pickle\n",
    "from sklearn.utils import resample\n",
    "from imblearn.under_sampling import TomekLinks, EditedNearestNeighbours, RandomUnderSampler, ClusterCentroids\n",
    "from imblearn.over_sampling import SMOTE, RandomOverSampler\n",
    "from sklearn.model_selection import RepeatedStratifiedKFold\n",
    "from xgboost import XGBClassifier"
   ]
  },
  {
   "cell_type": "code",
   "execution_count": 9,
   "metadata": {},
   "outputs": [
    {
     "data": {
      "text/html": [
       "<div>\n",
       "<style scoped>\n",
       "    .dataframe tbody tr th:only-of-type {\n",
       "        vertical-align: middle;\n",
       "    }\n",
       "\n",
       "    .dataframe tbody tr th {\n",
       "        vertical-align: top;\n",
       "    }\n",
       "\n",
       "    .dataframe thead th {\n",
       "        text-align: right;\n",
       "    }\n",
       "</style>\n",
       "<table border=\"1\" class=\"dataframe\">\n",
       "  <thead>\n",
       "    <tr style=\"text-align: right;\">\n",
       "      <th></th>\n",
       "      <th>A</th>\n",
       "      <th>B</th>\n",
       "      <th>C</th>\n",
       "      <th>D</th>\n",
       "      <th>E</th>\n",
       "      <th>F</th>\n",
       "      <th>G</th>\n",
       "      <th>T</th>\n",
       "    </tr>\n",
       "  </thead>\n",
       "  <tbody>\n",
       "    <tr>\n",
       "      <th>0</th>\n",
       "      <td>8.341749e+07</td>\n",
       "      <td>2</td>\n",
       "      <td>124</td>\n",
       "      <td>4</td>\n",
       "      <td>0.144868</td>\n",
       "      <td>3.091977e-01</td>\n",
       "      <td>22</td>\n",
       "      <td>1</td>\n",
       "    </tr>\n",
       "    <tr>\n",
       "      <th>1</th>\n",
       "      <td>1.379494e+08</td>\n",
       "      <td>2</td>\n",
       "      <td>5</td>\n",
       "      <td>34</td>\n",
       "      <td>0.117274</td>\n",
       "      <td>9.492332e-03</td>\n",
       "      <td>0</td>\n",
       "      <td>1</td>\n",
       "    </tr>\n",
       "    <tr>\n",
       "      <th>2</th>\n",
       "      <td>1.293132e+08</td>\n",
       "      <td>2</td>\n",
       "      <td>324</td>\n",
       "      <td>18</td>\n",
       "      <td>0.006898</td>\n",
       "      <td>6.352157e-07</td>\n",
       "      <td>2</td>\n",
       "      <td>1</td>\n",
       "    </tr>\n",
       "    <tr>\n",
       "      <th>3</th>\n",
       "      <td>1.028544e+08</td>\n",
       "      <td>2</td>\n",
       "      <td>202</td>\n",
       "      <td>4</td>\n",
       "      <td>0.000000</td>\n",
       "      <td>8.980000e-02</td>\n",
       "      <td>0</td>\n",
       "      <td>1</td>\n",
       "    </tr>\n",
       "    <tr>\n",
       "      <th>4</th>\n",
       "      <td>2.784674e+09</td>\n",
       "      <td>2</td>\n",
       "      <td>281</td>\n",
       "      <td>56</td>\n",
       "      <td>0.000000</td>\n",
       "      <td>3.288574e-04</td>\n",
       "      <td>0</td>\n",
       "      <td>1</td>\n",
       "    </tr>\n",
       "  </tbody>\n",
       "</table>\n",
       "</div>"
      ],
      "text/plain": [
       "              A  B    C   D         E             F   G  T\n",
       "0  8.341749e+07  2  124   4  0.144868  3.091977e-01  22  1\n",
       "1  1.379494e+08  2    5  34  0.117274  9.492332e-03   0  1\n",
       "2  1.293132e+08  2  324  18  0.006898  6.352157e-07   2  1\n",
       "3  1.028544e+08  2  202   4  0.000000  8.980000e-02   0  1\n",
       "4  2.784674e+09  2  281  56  0.000000  3.288574e-04   0  1"
      ]
     },
     "execution_count": 9,
     "metadata": {},
     "output_type": "execute_result"
    }
   ],
   "source": [
    "# Reading CSV File\n",
    "df = pd.read_csv('given_dataset.csv')\n",
    "df.drop('id', axis = 1, inplace = True)\n",
    "df.dropna()\n",
    "df.drop_duplicates()\n",
    "df.head()"
   ]
  },
  {
   "cell_type": "code",
   "execution_count": 10,
   "metadata": {},
   "outputs": [
    {
     "data": {
      "text/plain": [
       "1    2012677\n",
       "0      29010\n",
       "Name: T, dtype: int64"
      ]
     },
     "execution_count": 10,
     "metadata": {},
     "output_type": "execute_result"
    }
   ],
   "source": [
    "df['T'].value_counts()\n",
    "# Just 1.44% values are 0"
   ]
  },
  {
   "cell_type": "code",
   "execution_count": 29,
   "metadata": {},
   "outputs": [],
   "source": [
    "X = df[['A', 'B', 'C', 'D', 'E', 'F', 'G']]\n",
    "y = df['T']"
   ]
  },
  {
   "cell_type": "code",
   "execution_count": 5,
   "metadata": {},
   "outputs": [],
   "source": [
    "# Model 1 (Hope 3)\n",
    "model = XGBClassifier(max_depth = 10, scale_pos_weight = 0.0144) \n",
    "model.fit(X, y)\n",
    "\n",
    "# Saving model\n",
    "filename = 'model_1.sav'\n",
    "pickle.dump(model, open(filename, 'wb'))"
   ]
  },
  {
   "cell_type": "code",
   "execution_count": 6,
   "metadata": {},
   "outputs": [],
   "source": [
    "# Model 2 (Hope 4)\n",
    "X_maj = df[df['T'] == 1]\n",
    "X_min = df[df['T'] == 0]\n",
    "X_maj_rus = resample(X_maj, replace = False, n_samples = 2*len(X_min), random_state = 111)\n",
    "X_rus = pd.concat([X_maj_rus, X_min])\n",
    "X_train = X_rus.drop(['T'], axis = 1)\n",
    "y_train = X_rus['T']\n",
    "model = XGBClassifier(max_depth = 10, scale_pos_weight = 0.5) \n",
    "model.fit(X_train, y_train)\n",
    "\n",
    "# Saving model\n",
    "filename = 'model_2.sav'\n",
    "pickle.dump(model, open(filename, 'wb'))"
   ]
  },
  {
   "cell_type": "code",
   "execution_count": 7,
   "metadata": {},
   "outputs": [],
   "source": [
    "# Model 3 (Hope 5)\n",
    "under = RandomUnderSampler(sampling_strategy = 0.4)\n",
    "X, y = under.fit_resample(X, y)\n",
    "\n",
    "smote = SMOTE(sampling_strategy=0.7, k_neighbors=7)\n",
    "X_train, y_train = smote.fit_resample(X, y)\n",
    "\n",
    "param = {'max_depth': 10, 'objective': 'binary:logistic', 'scale_pos_weight' : 0.7}\n",
    "model = XGBClassifier(**param)\n",
    "model.fit(X_train, y_train)\n",
    "\n",
    "# Saving model\n",
    "filename = 'model_3.sav'\n",
    "pickle.dump(model, open(filename, 'wb'))"
   ]
  },
  {
   "cell_type": "code",
   "execution_count": 16,
   "metadata": {},
   "outputs": [
    {
     "data": {
      "text/plain": [
       "1    2012677\n",
       "0      29010\n",
       "Name: T, dtype: int64"
      ]
     },
     "execution_count": 16,
     "metadata": {},
     "output_type": "execute_result"
    }
   ],
   "source": [
    "# Skewness of data before pre-processing\n",
    "df['T'].value_counts()"
   ]
  },
  {
   "cell_type": "code",
   "execution_count": 17,
   "metadata": {},
   "outputs": [
    {
     "data": {
      "text/plain": [
       "1    58020\n",
       "0    29010\n",
       "Name: T, dtype: int64"
      ]
     },
     "execution_count": 17,
     "metadata": {},
     "output_type": "execute_result"
    }
   ],
   "source": [
    "# Skewness of data after pre-processing for Model - 2\n",
    "X_maj = df[df['T'] == 1]\n",
    "X_min = df[df['T'] == 0]\n",
    "X_maj_rus = resample(X_maj, replace = False, n_samples = 2*len(X_min), random_state = 111)\n",
    "X_rus = pd.concat([X_maj_rus, X_min])\n",
    "X_train = X_rus.drop(['T'], axis = 1)\n",
    "y_train = X_rus['T']\n",
    "y_train.value_counts()"
   ]
  },
  {
   "cell_type": "code",
   "execution_count": 19,
   "metadata": {},
   "outputs": [
    {
     "data": {
      "text/plain": [
       "1    72525\n",
       "0    50767\n",
       "Name: T, dtype: int64"
      ]
     },
     "execution_count": 19,
     "metadata": {},
     "output_type": "execute_result"
    }
   ],
   "source": [
    "# Skewness of data after pre-processing for Model - 3\n",
    "under = RandomUnderSampler(sampling_strategy = 0.4)\n",
    "X, y = under.fit_resample(X, y)\n",
    "\n",
    "smote = SMOTE(sampling_strategy=0.7, k_neighbors=7)\n",
    "X_train, y_train = smote.fit_resample(X, y)\n",
    "y_train.value_counts()"
   ]
  },
  {
   "cell_type": "code",
   "execution_count": 20,
   "metadata": {},
   "outputs": [],
   "source": [
    "def show_cm(y_true, y_pred, class_names=None, model_name=None):\n",
    "#     Show confusion matrix\n",
    " \n",
    " cf = confusion_matrix(y_true, y_pred)\n",
    " plt.imshow(cf, cmap=plt.cm.Blues)\n",
    " if model_name:\n",
    "   plt.title('Confusion Matrix: {}'.format(model_name))\n",
    " else:\n",
    "   plt.title('Confusion Matrix')\n",
    "   plt.ylabel('True Label')\n",
    "   plt.xlabel('Predicted Label')\n",
    " if class_names:\n",
    "   tick_marks = np.arange(len(class_names))\n",
    "   plt.xticks(tick_marks, class_names)\n",
    "   plt.yticks(tick_marks, class_names)\n",
    " else:\n",
    "   class_names = set(y_true)\n",
    "   tick_marks = np.arange(len(class_names))\n",
    "   plt.xticks(tick_marks, class_names)\n",
    "   plt.yticks(tick_marks, class_names)\n",
    " thresh = cf.max() / 2.0\n",
    " for i, j in itertools.product(range(cf.shape[0]),\n",
    "                               range(cf.shape[1])):\n",
    "   plt.text(j, i, cf[i, j],\n",
    "            horizontalalignment='center',\n",
    "            color='white' if cf[i, j] > thresh else 'black',\n",
    "            )\n",
    " plt.colorbar()"
   ]
  },
  {
   "cell_type": "code",
   "execution_count": 31,
   "metadata": {},
   "outputs": [
    {
     "data": {
      "image/png": "[encoded data removed]",
      "text/plain": [
       "<Figure size 432x288 with 2 Axes>"
      ]
     },
     "metadata": {
      "needs_background": "light"
     },
     "output_type": "display_data"
    }
   ],
   "source": [
    "under = RandomUnderSampler(sampling_strategy = 0.4)\n",
    "X, y = under.fit_resample(X, y)\n",
    "X_train, X_test, y_train, y_test = train_test_split(X, y, test_size=0.30, random_state=1111)\n",
    "smote = SMOTE(sampling_strategy=0.5, k_neighbors=7)\n",
    "X_train, y_train = smote.fit_resample(X, y)\n",
    "\n",
    "param = {'scale_pos_weight' : 0.5}\n",
    "model = XGBClassifier(**param)\n",
    "model.fit(X_train, y_train)\n",
    "ans = model.predict(X_test)\n",
    "\n",
    "show_cm(y_test, ans)"
   ]
  },
  {
   "cell_type": "code",
   "execution_count": null,
   "metadata": {},
   "outputs": [],
   "source": [
    "# Checking and storing\n",
    "df_test = pd.read_csv('to_predict.csv')\n",
    "def get_result(df_test):\n",
    "    df_test.drop_duplicates()\n",
    "    df_test.dropna()\n",
    "    op = df_test[['id']]\n",
    "    df_test.drop('id', axis = 1, inplace = True)\n",
    "    X = df_test[['A', 'B', 'C', 'D', 'E', 'F', 'G']]\n",
    "    filename = 'model_1.sav'\n",
    "    model = pickle.load(open(filename, 'rb'))\n",
    "    ans = model.predict(X)\n",
    "    op.insert(1, 'T', ans, True)\n",
    "    filename = 'submission.csv'\n",
    "    op.to_csv(filename, index = False)\n",
    "    return op"
   ]
  }
 ],
 "metadata": {
  "kernelspec": {
   "display_name": "Python 3",
   "language": "python",
   "name": "python3"
  },
  "language_info": {
   "codemirror_mode": {
    "name": "ipython",
    "version": 3
   },
   "file_extension": ".py",
   "mimetype": "text/x-python",
   "name": "python",
   "nbconvert_exporter": "python",
   "pygments_lexer": "ipython3",
   "version": "3.7.9"
  }
 },
 "nbformat": 4,
 "nbformat_minor": 4
}
